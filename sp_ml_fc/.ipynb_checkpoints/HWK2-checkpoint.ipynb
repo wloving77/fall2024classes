{
 "cells": [
  {
   "cell_type": "code",
   "execution_count": null,
   "id": "564cceef-14e9-4d28-b712-b1694ea5c72f",
   "metadata": {},
   "outputs": [],
   "source": [
    "# Define the input signal x[n] and impulse response h[n]\n",
    "x = [(0, 0), (1, -1), (2, -1.5), (3, 2), (4, 1.5), (5, 1.5), (6, 0.8), (7, 0), (8, -0.5)]\n",
    "h = [(0, 1), (1, -0.8), (2, -0.5), (3, -0.2)]\n",
    "\n",
    "# Extract the values of the signals\n",
    "x_values = [value for (n, value) in x]\n",
    "h_values = [value for (n, value) in h]\n",
    "\n",
    "# Determine the length of the signals\n",
    "len_x = len(x_values)\n",
    "len_h = len(h_values)\n",
    "\n",
    "# Initialize an array to store the output y[n]\n",
    "# The length of the output y[n] is len_x + len_h - 1\n",
    "y_length = len_x + len_h - 1\n",
    "y = [0] * y_length\n",
    "\n",
    "# Compute the convolution manually using nested loops\n",
    "for n in range(y_length):\n",
    "    for k in range(len_x):\n",
    "        if 0 <= n - k < len_h:\n",
    "            y[n] += x_values[k] * h_values[n - k]\n",
    "\n",
    "# Print the result\n",
    "for n, value in enumerate(y):\n",
    "    print(f\"y[{n}] = {value}\")\n"
   ]
  }
 ],
 "metadata": {
  "kernelspec": {
   "display_name": "Python 3 (ipykernel)",
   "language": "python",
   "name": "python3"
  },
  "language_info": {
   "codemirror_mode": {
    "name": "ipython",
    "version": 3
   },
   "file_extension": ".py",
   "mimetype": "text/x-python",
   "name": "python",
   "nbconvert_exporter": "python",
   "pygments_lexer": "ipython3",
   "version": "3.10.12"
  }
 },
 "nbformat": 4,
 "nbformat_minor": 5
}
