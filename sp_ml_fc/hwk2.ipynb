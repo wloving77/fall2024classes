{
 "cells": [
  {
   "cell_type": "code",
   "execution_count": 1,
   "id": "8e27e411-aa8a-4c4e-8072-15be8c6ab109",
   "metadata": {},
   "outputs": [
    {
     "name": "stdout",
     "output_type": "stream",
     "text": [
      "Output y[n]: [ 0.   -1.   -0.7   3.7   0.85 -0.4  -1.55 -1.69 -1.2   0.24  0.25  0.1 ]\n"
     ]
    }
   ],
   "source": [
    "import numpy as np\n",
    "\n",
    "# Define the input signal x[n] and impulse response h[n]\n",
    "x = [0, -1, -1.5, 2, 1.5, 1.5, 0.8, 0, -0.5]\n",
    "h = [1, -0.8, -0.5, -0.2]\n",
    "\n",
    "# Perform convolution\n",
    "y = np.convolve(x, h)\n",
    "\n",
    "# Print the result\n",
    "print(\"Output y[n]:\", y)\n"
   ]
  },
  {
   "cell_type": "code",
   "execution_count": null,
   "id": "a964b1e4-3e4a-489b-a361-fd5a21e61b89",
   "metadata": {},
   "outputs": [],
   "source": []
  }
 ],
 "metadata": {
  "kernelspec": {
   "display_name": "Python 3 (ipykernel)",
   "language": "python",
   "name": "python3"
  },
  "language_info": {
   "codemirror_mode": {
    "name": "ipython",
    "version": 3
   },
   "file_extension": ".py",
   "mimetype": "text/x-python",
   "name": "python",
   "nbconvert_exporter": "python",
   "pygments_lexer": "ipython3",
   "version": "3.10.12"
  }
 },
 "nbformat": 4,
 "nbformat_minor": 5
}
