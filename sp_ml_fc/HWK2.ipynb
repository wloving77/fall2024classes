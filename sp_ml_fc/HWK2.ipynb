{
 "cells": [
  {
   "cell_type": "code",
   "execution_count": 3,
   "id": "564cceef-14e9-4d28-b712-b1694ea5c72f",
   "metadata": {},
   "outputs": [
    {
     "name": "stdout",
     "output_type": "stream",
     "text": [
      "y[0] = 0\n",
      "y[1] = -1.0\n",
      "y[2] = -0.7\n",
      "y[3] = 3.7\n",
      "y[4] = 0.8499999999999999\n",
      "y[5] = -0.40000000000000013\n",
      "y[6] = -1.55\n",
      "y[7] = -1.6900000000000002\n",
      "y[8] = -1.2000000000000002\n",
      "y[9] = 0.24\n",
      "y[10] = 0.25\n",
      "y[11] = 0.1\n"
     ]
    }
   ],
   "source": [
    "x = [(0, 0), (1, -1), (2, -1.5), (3, 2), (4, 1.5), (5, 1.5), (6, 0.8), (7, 0), (8, -0.5)]\n",
    "h = [(0, 1), (1, -0.8), (2, -0.5), (3, -0.2)]\n",
    "\n",
    "x_values = [value for (n, value) in x]\n",
    "h_values = [value for (n, value) in h]\n",
    "\n",
    "len_x = len(x_values)\n",
    "len_h = len(h_values)\n",
    "\n",
    "y_length = len_x + len_h - 1\n",
    "y = [0] * y_length\n",
    "\n",
    "# Compute the convolution\n",
    "for n in range(y_length):\n",
    "    for k in range(len_x):\n",
    "        if 0 <= n - k < len_h:\n",
    "            y[n] += x_values[k] * h_values[n - k]\n",
    "\n",
    "for n, value in enumerate(y):\n",
    "    print(f\"y[{n}] = {value}\")\n"
   ]
  },
  {
   "cell_type": "code",
   "execution_count": 5,
   "id": "2dc584db-3ba1-4f5d-842d-496a8a8fd444",
   "metadata": {},
   "outputs": [
    {
     "name": "stdout",
     "output_type": "stream",
     "text": [
      "Tracing execution for K = 1:\n",
      "I = 0: REX[1] = 1.0000, IMX[1] = 0.0000\n",
      "I = 1: REX[1] = 1.5000, IMX[1] = -0.8660\n",
      "I = 2: REX[1] = 0.5000, IMX[1] = -2.5981\n",
      "I = 3: REX[1] = -0.5000, IMX[1] = -2.5981\n",
      "I = 4: REX[1] = -2.0000, IMX[1] = -0.0000\n",
      "I = 5: REX[1] = -1.0000, IMX[1] = 1.7321\n",
      "Final results for K = 1: REX[1] = -1.0000, IMX[1] = 1.7321\n"
     ]
    }
   ],
   "source": [
    "import math\n",
    "\n",
    "PI = 3.14159265\n",
    "N = 6  \n",
    "XX = [0] * 512 \n",
    "REX = [0] * 256  \n",
    "IMX = [0] * 256 \n",
    "\n",
    "# Define input signal\n",
    "input_signal = [1, 1, 2, 1, 3, 2]\n",
    "for i in range(len(input_signal)):\n",
    "    XX[i] = input_signal[i]\n",
    "\n",
    "# Execute the DFT computation, tracing only for K = 1\n",
    "K = 1\n",
    "print(f\"Tracing execution for K = {K}:\")\n",
    "REX[K] = 0\n",
    "IMX[K] = 0\n",
    "\n",
    "for I in range(N):\n",
    "    cos_value = math.cos(2 * PI * K * I / N)\n",
    "    sin_value = math.sin(2 * PI * K * I / N)\n",
    "    REX[K] = REX[K] + XX[I] * cos_value\n",
    "    IMX[K] = IMX[K] - XX[I] * sin_value\n",
    "\n",
    "    print(f\"I = {I}: REX[{K}] = {REX[K]:.4f}, IMX[{K}] = {IMX[K]:.4f}\")\n",
    "\n",
    "# final results for K = 1\n",
    "print(f\"Final results for K = {K}: REX[{K}] = {REX[K]:.4f}, IMX[{K}] = {IMX[K]:.4f}\")\n"
   ]
  },
  {
   "cell_type": "code",
   "execution_count": null,
   "id": "8c1a11a6-294f-48d4-94b2-d4a3a4b63380",
   "metadata": {},
   "outputs": [],
   "source": []
  }
 ],
 "metadata": {
  "kernelspec": {
   "display_name": "Python 3 (ipykernel)",
   "language": "python",
   "name": "python3"
  },
  "language_info": {
   "codemirror_mode": {
    "name": "ipython",
    "version": 3
   },
   "file_extension": ".py",
   "mimetype": "text/x-python",
   "name": "python",
   "nbconvert_exporter": "python",
   "pygments_lexer": "ipython3",
   "version": "3.10.12"
  }
 },
 "nbformat": 4,
 "nbformat_minor": 5
}
