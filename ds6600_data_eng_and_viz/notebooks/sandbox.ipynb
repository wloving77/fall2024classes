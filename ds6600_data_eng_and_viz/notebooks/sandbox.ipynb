{
 "cells": [
  {
   "cell_type": "code",
   "execution_count": 1,
   "id": "d325c914-2db4-4bed-99c1-eeb5e61357a3",
   "metadata": {},
   "outputs": [],
   "source": [
    "from contrans import contrans"
   ]
  },
  {
   "cell_type": "code",
   "execution_count": 2,
   "id": "d88166c9-3c9a-41b2-9079-cb3e1b3ec16b",
   "metadata": {},
   "outputs": [],
   "source": [
    "helper = contrans()"
   ]
  },
  {
   "cell_type": "code",
   "execution_count": 3,
   "id": "0c87a850-787c-4d1f-a5b5-dd3c8f3b9657",
   "metadata": {},
   "outputs": [
    {
     "data": {
      "text/plain": [
       "'IFdBXb4JYhAZDzkG5I5VbGC2CPldZwGUEhL25cVU'"
      ]
     },
     "execution_count": 3,
     "metadata": {},
     "output_type": "execute_result"
    }
   ],
   "source": [
    "helper.congress_key"
   ]
  },
  {
   "cell_type": "code",
   "execution_count": 4,
   "id": "9f87d15f-028b-472d-b253-7bdca463e47f",
   "metadata": {},
   "outputs": [],
   "source": [
    "data =  helper.get_bioguideIDs()"
   ]
  },
  {
   "cell_type": "code",
   "execution_count": 5,
   "id": "a5a2af7e-4d4b-49b2-b49a-971c0cc18258",
   "metadata": {},
   "outputs": [
    {
     "data": {
      "text/plain": [
       "(2524, 10)"
      ]
     },
     "execution_count": 5,
     "metadata": {},
     "output_type": "execute_result"
    }
   ],
   "source": [
    "data.shape"
   ]
  },
  {
   "cell_type": "code",
   "execution_count": 6,
   "id": "36b12e6a-e7bc-46e1-9c99-a4e6c77039a2",
   "metadata": {},
   "outputs": [
    {
     "data": {
      "text/html": [
       "<div>\n",
       "<style scoped>\n",
       "    .dataframe tbody tr th:only-of-type {\n",
       "        vertical-align: middle;\n",
       "    }\n",
       "\n",
       "    .dataframe tbody tr th {\n",
       "        vertical-align: top;\n",
       "    }\n",
       "\n",
       "    .dataframe thead th {\n",
       "        text-align: right;\n",
       "    }\n",
       "</style>\n",
       "<table border=\"1\" class=\"dataframe\">\n",
       "  <thead>\n",
       "    <tr style=\"text-align: right;\">\n",
       "      <th></th>\n",
       "      <th>bioguideId</th>\n",
       "      <th>district</th>\n",
       "      <th>name</th>\n",
       "      <th>partyName</th>\n",
       "      <th>state</th>\n",
       "      <th>updateDate</th>\n",
       "      <th>url</th>\n",
       "      <th>terms.item</th>\n",
       "      <th>depiction.attribution</th>\n",
       "      <th>depiction.imageUrl</th>\n",
       "    </tr>\n",
       "  </thead>\n",
       "  <tbody>\n",
       "    <tr>\n",
       "      <th>2519</th>\n",
       "      <td>F000229</td>\n",
       "      <td>6.0</td>\n",
       "      <td>Flynt, John J., Jr.</td>\n",
       "      <td>Democratic</td>\n",
       "      <td>Georgia</td>\n",
       "      <td>2022-12-16T21:56:51Z</td>\n",
       "      <td>https://api.congress.gov/v3/member/F000229?for...</td>\n",
       "      <td>[{'chamber': 'House of Representatives', 'endY...</td>\n",
       "      <td>Collection of the U.S. House of Representatives</td>\n",
       "      <td>https://www.congress.gov/img/member/f000229_20...</td>\n",
       "    </tr>\n",
       "    <tr>\n",
       "      <th>2520</th>\n",
       "      <td>F000218</td>\n",
       "      <td>7.0</td>\n",
       "      <td>Flowers, Walter</td>\n",
       "      <td>Democratic</td>\n",
       "      <td>Alabama</td>\n",
       "      <td>2022-12-16T21:56:51Z</td>\n",
       "      <td>https://api.congress.gov/v3/member/F000218?for...</td>\n",
       "      <td>[{'chamber': 'House of Representatives', 'endY...</td>\n",
       "      <td>Collection of the U.S. House of Representatives</td>\n",
       "      <td>https://www.congress.gov/img/member/f000218_20...</td>\n",
       "    </tr>\n",
       "    <tr>\n",
       "      <th>2521</th>\n",
       "      <td>F000215</td>\n",
       "      <td>1.0</td>\n",
       "      <td>Florio, James J.</td>\n",
       "      <td>Democratic</td>\n",
       "      <td>New Jersey</td>\n",
       "      <td>2022-12-16T21:56:51Z</td>\n",
       "      <td>https://api.congress.gov/v3/member/F000215?for...</td>\n",
       "      <td>[{'chamber': 'House of Representatives', 'endY...</td>\n",
       "      <td>Collection of the U.S. House of Representatives</td>\n",
       "      <td>https://www.congress.gov/img/member/f000215_20...</td>\n",
       "    </tr>\n",
       "    <tr>\n",
       "      <th>2522</th>\n",
       "      <td>F000209</td>\n",
       "      <td>11.0</td>\n",
       "      <td>Flood, Daniel J.</td>\n",
       "      <td>Democratic</td>\n",
       "      <td>Pennsylvania</td>\n",
       "      <td>2022-12-16T21:56:51Z</td>\n",
       "      <td>https://api.congress.gov/v3/member/F000209?for...</td>\n",
       "      <td>[{'chamber': 'House of Representatives', 'endY...</td>\n",
       "      <td>Collection of the U.S. House of Representatives</td>\n",
       "      <td>https://www.congress.gov/img/member/f000209_20...</td>\n",
       "    </tr>\n",
       "    <tr>\n",
       "      <th>2523</th>\n",
       "      <td>F000208</td>\n",
       "      <td>5.0</td>\n",
       "      <td>Flippo, Ronnie G.</td>\n",
       "      <td>Democratic</td>\n",
       "      <td>Alabama</td>\n",
       "      <td>2022-12-16T21:56:51Z</td>\n",
       "      <td>https://api.congress.gov/v3/member/F000208?for...</td>\n",
       "      <td>[{'chamber': 'House of Representatives', 'endY...</td>\n",
       "      <td>Collection of the U.S. House of Representatives</td>\n",
       "      <td>https://www.congress.gov/img/member/f000208_20...</td>\n",
       "    </tr>\n",
       "  </tbody>\n",
       "</table>\n",
       "</div>"
      ],
      "text/plain": [
       "     bioguideId  district                 name   partyName         state  \\\n",
       "2519    F000229       6.0  Flynt, John J., Jr.  Democratic       Georgia   \n",
       "2520    F000218       7.0      Flowers, Walter  Democratic       Alabama   \n",
       "2521    F000215       1.0     Florio, James J.  Democratic    New Jersey   \n",
       "2522    F000209      11.0     Flood, Daniel J.  Democratic  Pennsylvania   \n",
       "2523    F000208       5.0    Flippo, Ronnie G.  Democratic       Alabama   \n",
       "\n",
       "                updateDate                                                url  \\\n",
       "2519  2022-12-16T21:56:51Z  https://api.congress.gov/v3/member/F000229?for...   \n",
       "2520  2022-12-16T21:56:51Z  https://api.congress.gov/v3/member/F000218?for...   \n",
       "2521  2022-12-16T21:56:51Z  https://api.congress.gov/v3/member/F000215?for...   \n",
       "2522  2022-12-16T21:56:51Z  https://api.congress.gov/v3/member/F000209?for...   \n",
       "2523  2022-12-16T21:56:51Z  https://api.congress.gov/v3/member/F000208?for...   \n",
       "\n",
       "                                             terms.item  \\\n",
       "2519  [{'chamber': 'House of Representatives', 'endY...   \n",
       "2520  [{'chamber': 'House of Representatives', 'endY...   \n",
       "2521  [{'chamber': 'House of Representatives', 'endY...   \n",
       "2522  [{'chamber': 'House of Representatives', 'endY...   \n",
       "2523  [{'chamber': 'House of Representatives', 'endY...   \n",
       "\n",
       "                                depiction.attribution  \\\n",
       "2519  Collection of the U.S. House of Representatives   \n",
       "2520  Collection of the U.S. House of Representatives   \n",
       "2521  Collection of the U.S. House of Representatives   \n",
       "2522  Collection of the U.S. House of Representatives   \n",
       "2523  Collection of the U.S. House of Representatives   \n",
       "\n",
       "                                     depiction.imageUrl  \n",
       "2519  https://www.congress.gov/img/member/f000229_20...  \n",
       "2520  https://www.congress.gov/img/member/f000218_20...  \n",
       "2521  https://www.congress.gov/img/member/f000215_20...  \n",
       "2522  https://www.congress.gov/img/member/f000209_20...  \n",
       "2523  https://www.congress.gov/img/member/f000208_20...  "
      ]
     },
     "execution_count": 6,
     "metadata": {},
     "output_type": "execute_result"
    }
   ],
   "source": [
    "data.tail()"
   ]
  },
  {
   "cell_type": "code",
   "execution_count": null,
   "id": "066c8c9c-7d7b-4ae5-86b6-b827e665579f",
   "metadata": {},
   "outputs": [],
   "source": []
  }
 ],
 "metadata": {
  "kernelspec": {
   "display_name": "Python 3 (ipykernel)",
   "language": "python",
   "name": "python3"
  },
  "language_info": {
   "codemirror_mode": {
    "name": "ipython",
    "version": 3
   },
   "file_extension": ".py",
   "mimetype": "text/x-python",
   "name": "python",
   "nbconvert_exporter": "python",
   "pygments_lexer": "ipython3",
   "version": "3.12.5"
  }
 },
 "nbformat": 4,
 "nbformat_minor": 5
}
