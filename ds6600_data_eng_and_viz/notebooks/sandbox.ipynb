{
 "cells": [
  {
   "cell_type": "code",
   "execution_count": 1,
   "id": "d325c914-2db4-4bed-99c1-eeb5e61357a3",
   "metadata": {},
   "outputs": [],
   "source": [
    "from contrans import contrans"
   ]
  },
  {
   "cell_type": "code",
   "execution_count": 2,
   "id": "d88166c9-3c9a-41b2-9079-cb3e1b3ec16b",
   "metadata": {},
   "outputs": [],
   "source": [
    "helper = contrans()"
   ]
  },
  {
   "cell_type": "code",
   "execution_count": 3,
   "id": "0c87a850-787c-4d1f-a5b5-dd3c8f3b9657",
   "metadata": {},
   "outputs": [
    {
     "data": {
      "text/plain": [
       "'IFdBXb4JYhAZDzkG5I5VbGC2CPldZwGUEhL25cVU'"
      ]
     },
     "execution_count": 3,
     "metadata": {},
     "output_type": "execute_result"
    }
   ],
   "source": [
    "helper.congress_key"
   ]
  },
  {
   "cell_type": "code",
   "execution_count": 47,
   "id": "9f87d15f-028b-472d-b253-7bdca463e47f",
   "metadata": {},
   "outputs": [],
   "source": [
    "members = helper.get_bioguideIDs()"
   ]
  },
  {
   "cell_type": "code",
   "execution_count": 48,
   "id": "4997acbd-47ba-4307-ab3e-d4c32599cd90",
   "metadata": {},
   "outputs": [],
   "source": [
    "names = members['name']"
   ]
  },
  {
   "cell_type": "code",
   "execution_count": 49,
   "id": "d759fe33-1239-4c84-9ea3-68fb7a912868",
   "metadata": {},
   "outputs": [],
   "source": [
    "members['last_names'] = members['name'].str.replace(\",\",\"\").str.lower().str.strip().str.split().str[0]\n",
    "members['first_names'] = members['name'].str.replace(\",\",\"\").str.lower().str.strip().str.split().str[1]"
   ]
  },
  {
   "cell_type": "code",
   "execution_count": 50,
   "id": "6a50e862-af15-4e3b-bd72-32f3d3d753a1",
   "metadata": {},
   "outputs": [
    {
     "data": {
      "text/html": [
       "<div>\n",
       "<style scoped>\n",
       "    .dataframe tbody tr th:only-of-type {\n",
       "        vertical-align: middle;\n",
       "    }\n",
       "\n",
       "    .dataframe tbody tr th {\n",
       "        vertical-align: top;\n",
       "    }\n",
       "\n",
       "    .dataframe thead th {\n",
       "        text-align: right;\n",
       "    }\n",
       "</style>\n",
       "<table border=\"1\" class=\"dataframe\">\n",
       "  <thead>\n",
       "    <tr style=\"text-align: right;\">\n",
       "      <th></th>\n",
       "      <th>bioguideId</th>\n",
       "      <th>district</th>\n",
       "      <th>name</th>\n",
       "      <th>partyName</th>\n",
       "      <th>state</th>\n",
       "      <th>updateDate</th>\n",
       "      <th>url</th>\n",
       "      <th>depiction.attribution</th>\n",
       "      <th>depiction.imageUrl</th>\n",
       "      <th>terms.item</th>\n",
       "      <th>last_names</th>\n",
       "      <th>first_names</th>\n",
       "    </tr>\n",
       "  </thead>\n",
       "  <tbody>\n",
       "    <tr>\n",
       "      <th>0</th>\n",
       "      <td>M001229</td>\n",
       "      <td>10.0</td>\n",
       "      <td>McIver, LaMonica</td>\n",
       "      <td>Democratic</td>\n",
       "      <td>New Jersey</td>\n",
       "      <td>2024-10-02T15:00:58Z</td>\n",
       "      <td>https://api.congress.gov/v3/member/M001229?for...</td>\n",
       "      <td>Image courtesy of the Member</td>\n",
       "      <td>https://www.congress.gov/img/member/66fd489d79...</td>\n",
       "      <td>[{'chamber': 'House of Representatives', 'star...</td>\n",
       "      <td>mciver</td>\n",
       "      <td>lamonica</td>\n",
       "    </tr>\n",
       "    <tr>\n",
       "      <th>1</th>\n",
       "      <td>E000236</td>\n",
       "      <td>NaN</td>\n",
       "      <td>Evans, Daniel J.</td>\n",
       "      <td>Republican</td>\n",
       "      <td>Washington</td>\n",
       "      <td>2024-09-23T14:08:49Z</td>\n",
       "      <td>https://api.congress.gov/v3/member/E000236?for...</td>\n",
       "      <td>&lt;a href=\"http://www.senate.gov/artandhistory/h...</td>\n",
       "      <td>https://www.congress.gov/img/member/e000236_20...</td>\n",
       "      <td>[{'chamber': 'Senate', 'endYear': 1989, 'start...</td>\n",
       "      <td>evans</td>\n",
       "      <td>daniel</td>\n",
       "    </tr>\n",
       "    <tr>\n",
       "      <th>2</th>\n",
       "      <td>S000068</td>\n",
       "      <td>NaN</td>\n",
       "      <td>Sasser, Jim</td>\n",
       "      <td>Democratic</td>\n",
       "      <td>Tennessee</td>\n",
       "      <td>2024-09-12T19:33:39Z</td>\n",
       "      <td>https://api.congress.gov/v3/member/S000068?for...</td>\n",
       "      <td>&lt;a href=\"http://www.senate.gov/artandhistory/h...</td>\n",
       "      <td>https://www.congress.gov/img/member/s000068_20...</td>\n",
       "      <td>[{'chamber': 'Senate', 'endYear': 1995, 'start...</td>\n",
       "      <td>sasser</td>\n",
       "      <td>jim</td>\n",
       "    </tr>\n",
       "    <tr>\n",
       "      <th>3</th>\n",
       "      <td>H001097</td>\n",
       "      <td>NaN</td>\n",
       "      <td>Helmy, George S.</td>\n",
       "      <td>Democratic</td>\n",
       "      <td>New Jersey</td>\n",
       "      <td>2024-09-12T12:42:19Z</td>\n",
       "      <td>https://api.congress.gov/v3/member/H001097?for...</td>\n",
       "      <td>NaN</td>\n",
       "      <td>NaN</td>\n",
       "      <td>[{'chamber': 'Senate', 'startYear': 2024}]</td>\n",
       "      <td>helmy</td>\n",
       "      <td>george</td>\n",
       "    </tr>\n",
       "    <tr>\n",
       "      <th>4</th>\n",
       "      <td>R000599</td>\n",
       "      <td>25.0</td>\n",
       "      <td>Ruiz, Raul</td>\n",
       "      <td>Democratic</td>\n",
       "      <td>California</td>\n",
       "      <td>2024-09-11T16:29:00Z</td>\n",
       "      <td>https://api.congress.gov/v3/member/R000599?for...</td>\n",
       "      <td>Image courtesy of the Member</td>\n",
       "      <td>https://www.congress.gov/img/member/66e1aec832...</td>\n",
       "      <td>[{'chamber': 'House of Representatives', 'star...</td>\n",
       "      <td>ruiz</td>\n",
       "      <td>raul</td>\n",
       "    </tr>\n",
       "  </tbody>\n",
       "</table>\n",
       "</div>"
      ],
      "text/plain": [
       "  bioguideId  district              name   partyName       state  \\\n",
       "0    M001229      10.0  McIver, LaMonica  Democratic  New Jersey   \n",
       "1    E000236       NaN  Evans, Daniel J.  Republican  Washington   \n",
       "2    S000068       NaN       Sasser, Jim  Democratic   Tennessee   \n",
       "3    H001097       NaN  Helmy, George S.  Democratic  New Jersey   \n",
       "4    R000599      25.0        Ruiz, Raul  Democratic  California   \n",
       "\n",
       "             updateDate                                                url  \\\n",
       "0  2024-10-02T15:00:58Z  https://api.congress.gov/v3/member/M001229?for...   \n",
       "1  2024-09-23T14:08:49Z  https://api.congress.gov/v3/member/E000236?for...   \n",
       "2  2024-09-12T19:33:39Z  https://api.congress.gov/v3/member/S000068?for...   \n",
       "3  2024-09-12T12:42:19Z  https://api.congress.gov/v3/member/H001097?for...   \n",
       "4  2024-09-11T16:29:00Z  https://api.congress.gov/v3/member/R000599?for...   \n",
       "\n",
       "                               depiction.attribution  \\\n",
       "0                       Image courtesy of the Member   \n",
       "1  <a href=\"http://www.senate.gov/artandhistory/h...   \n",
       "2  <a href=\"http://www.senate.gov/artandhistory/h...   \n",
       "3                                                NaN   \n",
       "4                       Image courtesy of the Member   \n",
       "\n",
       "                                  depiction.imageUrl  \\\n",
       "0  https://www.congress.gov/img/member/66fd489d79...   \n",
       "1  https://www.congress.gov/img/member/e000236_20...   \n",
       "2  https://www.congress.gov/img/member/s000068_20...   \n",
       "3                                                NaN   \n",
       "4  https://www.congress.gov/img/member/66e1aec832...   \n",
       "\n",
       "                                          terms.item last_names first_names  \n",
       "0  [{'chamber': 'House of Representatives', 'star...     mciver    lamonica  \n",
       "1  [{'chamber': 'Senate', 'endYear': 1989, 'start...      evans      daniel  \n",
       "2  [{'chamber': 'Senate', 'endYear': 1995, 'start...     sasser         jim  \n",
       "3         [{'chamber': 'Senate', 'startYear': 2024}]      helmy      george  \n",
       "4  [{'chamber': 'House of Representatives', 'star...       ruiz        raul  "
      ]
     },
     "execution_count": 50,
     "metadata": {},
     "output_type": "execute_result"
    }
   ],
   "source": [
    "members.head()"
   ]
  },
  {
   "cell_type": "code",
   "execution_count": 51,
   "id": "67cf14a9-a97a-44c3-af6e-54dd12ef9f11",
   "metadata": {},
   "outputs": [],
   "source": [
    "first_name='bob'\n",
    "last_name='good'"
   ]
  },
  {
   "cell_type": "code",
   "execution_count": 52,
   "id": "5290ec71-77c8-4529-a77a-961527edb7dd",
   "metadata": {},
   "outputs": [],
   "source": [
    "matching_names = members[(members['first_names'] == first_name) & (members['last_names'] == last_name)]"
   ]
  },
  {
   "cell_type": "code",
   "execution_count": 53,
   "id": "3fd6eb16-e3fa-4424-a387-bdac10403b2b",
   "metadata": {},
   "outputs": [
    {
     "data": {
      "text/html": [
       "<div>\n",
       "<style scoped>\n",
       "    .dataframe tbody tr th:only-of-type {\n",
       "        vertical-align: middle;\n",
       "    }\n",
       "\n",
       "    .dataframe tbody tr th {\n",
       "        vertical-align: top;\n",
       "    }\n",
       "\n",
       "    .dataframe thead th {\n",
       "        text-align: right;\n",
       "    }\n",
       "</style>\n",
       "<table border=\"1\" class=\"dataframe\">\n",
       "  <thead>\n",
       "    <tr style=\"text-align: right;\">\n",
       "      <th></th>\n",
       "      <th>bioguideId</th>\n",
       "      <th>district</th>\n",
       "      <th>name</th>\n",
       "      <th>partyName</th>\n",
       "      <th>state</th>\n",
       "      <th>updateDate</th>\n",
       "      <th>url</th>\n",
       "      <th>depiction.attribution</th>\n",
       "      <th>depiction.imageUrl</th>\n",
       "      <th>terms.item</th>\n",
       "      <th>last_names</th>\n",
       "      <th>first_names</th>\n",
       "    </tr>\n",
       "  </thead>\n",
       "  <tbody>\n",
       "    <tr>\n",
       "      <th>38</th>\n",
       "      <td>G000595</td>\n",
       "      <td>5.0</td>\n",
       "      <td>Good, Bob</td>\n",
       "      <td>Republican</td>\n",
       "      <td>Virginia</td>\n",
       "      <td>2024-06-08T18:40:22Z</td>\n",
       "      <td>https://api.congress.gov/v3/member/G000595?for...</td>\n",
       "      <td>Image courtesy of the Member</td>\n",
       "      <td>https://www.congress.gov/img/member/g000595_20...</td>\n",
       "      <td>[{'chamber': 'House of Representatives', 'star...</td>\n",
       "      <td>good</td>\n",
       "      <td>bob</td>\n",
       "    </tr>\n",
       "  </tbody>\n",
       "</table>\n",
       "</div>"
      ],
      "text/plain": [
       "   bioguideId  district       name   partyName     state  \\\n",
       "38    G000595       5.0  Good, Bob  Republican  Virginia   \n",
       "\n",
       "              updateDate                                                url  \\\n",
       "38  2024-06-08T18:40:22Z  https://api.congress.gov/v3/member/G000595?for...   \n",
       "\n",
       "           depiction.attribution  \\\n",
       "38  Image courtesy of the Member   \n",
       "\n",
       "                                   depiction.imageUrl  \\\n",
       "38  https://www.congress.gov/img/member/g000595_20...   \n",
       "\n",
       "                                           terms.item last_names first_names  \n",
       "38  [{'chamber': 'House of Representatives', 'star...       good         bob  "
      ]
     },
     "execution_count": 53,
     "metadata": {},
     "output_type": "execute_result"
    }
   ],
   "source": [
    "matching_names"
   ]
  },
  {
   "cell_type": "code",
   "execution_count": 4,
   "id": "f7aa9e55-97ea-4b6e-a816-ac49c4d25a8e",
   "metadata": {},
   "outputs": [],
   "source": [
    "bob_good = helper.get_bioguide(first_name=\"bob\", last_name=\"good\", state=\"Virginia\")"
   ]
  },
  {
   "cell_type": "code",
   "execution_count": 5,
   "id": "edcf87ad-a89c-4a56-977b-a6787e1b8ac0",
   "metadata": {},
   "outputs": [
    {
     "data": {
      "text/html": [
       "<div>\n",
       "<style scoped>\n",
       "    .dataframe tbody tr th:only-of-type {\n",
       "        vertical-align: middle;\n",
       "    }\n",
       "\n",
       "    .dataframe tbody tr th {\n",
       "        vertical-align: top;\n",
       "    }\n",
       "\n",
       "    .dataframe thead th {\n",
       "        text-align: right;\n",
       "    }\n",
       "</style>\n",
       "<table border=\"1\" class=\"dataframe\">\n",
       "  <thead>\n",
       "    <tr style=\"text-align: right;\">\n",
       "      <th></th>\n",
       "      <th>bioguideId</th>\n",
       "      <th>district</th>\n",
       "      <th>name</th>\n",
       "      <th>partyName</th>\n",
       "      <th>state</th>\n",
       "      <th>updateDate</th>\n",
       "      <th>url</th>\n",
       "      <th>depiction.attribution</th>\n",
       "      <th>depiction.imageUrl</th>\n",
       "      <th>terms.item</th>\n",
       "      <th>last_names</th>\n",
       "      <th>first_names</th>\n",
       "    </tr>\n",
       "  </thead>\n",
       "  <tbody>\n",
       "    <tr>\n",
       "      <th>38</th>\n",
       "      <td>G000595</td>\n",
       "      <td>5.0</td>\n",
       "      <td>Good, Bob</td>\n",
       "      <td>Republican</td>\n",
       "      <td>Virginia</td>\n",
       "      <td>2024-06-08T18:40:22Z</td>\n",
       "      <td>https://api.congress.gov/v3/member/G000595?for...</td>\n",
       "      <td>Image courtesy of the Member</td>\n",
       "      <td>https://www.congress.gov/img/member/g000595_20...</td>\n",
       "      <td>[{'chamber': 'House of Representatives', 'star...</td>\n",
       "      <td>good</td>\n",
       "      <td>bob</td>\n",
       "    </tr>\n",
       "  </tbody>\n",
       "</table>\n",
       "</div>"
      ],
      "text/plain": [
       "   bioguideId  district       name   partyName     state  \\\n",
       "38    G000595       5.0  Good, Bob  Republican  Virginia   \n",
       "\n",
       "              updateDate                                                url  \\\n",
       "38  2024-06-08T18:40:22Z  https://api.congress.gov/v3/member/G000595?for...   \n",
       "\n",
       "           depiction.attribution  \\\n",
       "38  Image courtesy of the Member   \n",
       "\n",
       "                                   depiction.imageUrl  \\\n",
       "38  https://www.congress.gov/img/member/g000595_20...   \n",
       "\n",
       "                                           terms.item last_names first_names  \n",
       "38  [{'chamber': 'House of Representatives', 'star...       good         bob  "
      ]
     },
     "execution_count": 5,
     "metadata": {},
     "output_type": "execute_result"
    }
   ],
   "source": [
    "bob_good"
   ]
  },
  {
   "cell_type": "code",
   "execution_count": 25,
   "id": "965462fc-0167-46ec-9a29-593d2a8fcdf2",
   "metadata": {},
   "outputs": [],
   "source": [
    "bioguideid = bob_good['bioguideId'].iloc(0)"
   ]
  },
  {
   "cell_type": "code",
   "execution_count": 27,
   "id": "73beae27-4db9-4440-b263-10ce8652f338",
   "metadata": {},
   "outputs": [
    {
     "ename": "AttributeError",
     "evalue": "'_iLocIndexer' object has no attribute 'str'",
     "output_type": "error",
     "traceback": [
      "\u001b[0;31m---------------------------------------------------------------------------\u001b[0m",
      "\u001b[0;31mAttributeError\u001b[0m                            Traceback (most recent call last)",
      "Cell \u001b[0;32mIn[27], line 1\u001b[0m\n\u001b[0;32m----> 1\u001b[0m \u001b[38;5;28mprint\u001b[39m(\u001b[43mbioguideid\u001b[49m\u001b[38;5;241;43m.\u001b[39;49m\u001b[43mstr\u001b[49m)\n",
      "\u001b[0;31mAttributeError\u001b[0m: '_iLocIndexer' object has no attribute 'str'"
     ]
    }
   ],
   "source": [
    "print(bioguideid)"
   ]
  },
  {
   "cell_type": "code",
   "execution_count": null,
   "id": "905f3db0-507b-48b8-a408-e150906a15ba",
   "metadata": {},
   "outputs": [],
   "source": []
  },
  {
   "cell_type": "code",
   "execution_count": 20,
   "id": "ce34872a-8808-4549-802c-02fcdffeabdf",
   "metadata": {},
   "outputs": [
    {
     "data": {
      "text/plain": [
       "'38    https://api.congress.gov/v3/member/G000595/spo...\\nName: bioguideId, dtype: object'"
      ]
     },
     "execution_count": 20,
     "metadata": {},
     "output_type": "execute_result"
    }
   ],
   "source": [
    "str(root+endpoint)"
   ]
  },
  {
   "cell_type": "code",
   "execution_count": null,
   "id": "2d9d2975-54eb-4d7d-bd8c-6f327396d867",
   "metadata": {},
   "outputs": [],
   "source": []
  }
 ],
 "metadata": {
  "kernelspec": {
   "display_name": "Python 3 (ipykernel)",
   "language": "python",
   "name": "python3"
  },
  "language_info": {
   "codemirror_mode": {
    "name": "ipython",
    "version": 3
   },
   "file_extension": ".py",
   "mimetype": "text/x-python",
   "name": "python",
   "nbconvert_exporter": "python",
   "pygments_lexer": "ipython3",
   "version": "3.10.12"
  }
 },
 "nbformat": 4,
 "nbformat_minor": 5
}
