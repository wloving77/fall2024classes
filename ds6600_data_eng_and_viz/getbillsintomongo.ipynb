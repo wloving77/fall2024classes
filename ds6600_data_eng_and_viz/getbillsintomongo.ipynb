{
 "cells": [
  {
   "cell_type": "code",
   "execution_count": 1,
   "metadata": {},
   "outputs": [
    {
     "data": {
      "text/plain": [
       "<module 'contrans' from '/home/wloving77/Githubs/school/fall2024classes/ds6600_data_eng_and_viz/contrans.py'>"
      ]
     },
     "execution_count": 1,
     "metadata": {},
     "output_type": "execute_result"
    }
   ],
   "source": [
    "import contrans\n",
    "import numpy as np\n",
    "import pandas as pd\n",
    "import dotenv\n",
    "import os\n",
    "import json\n",
    "import requests \n",
    "import psycopg\n",
    "import sqlite3\n",
    "from sqlalchemy import create_engine    \n",
    "dotenv.load_dotenv()\n",
    "congresskey = os.getenv('congresskey')\n",
    "postgrespassword = os.getenv('POSTGRES_PASSWORD')\n",
    "import importlib\n",
    "importlib.reload(contrans)"
   ]
  },
  {
   "cell_type": "code",
   "execution_count": 8,
   "metadata": {},
   "outputs": [],
   "source": [
    "ct = contrans.contrans_helper()"
   ]
  },
  {
   "cell_type": "code",
   "execution_count": 9,
   "metadata": {},
   "outputs": [],
   "source": [
    "# Don't run again with from_scratch=True if you don't want to overwrite\n",
    "mongo_bills = ct.connect_to_mongo(from_scratch=True)"
   ]
  },
  {
   "cell_type": "code",
   "execution_count": 10,
   "metadata": {},
   "outputs": [
    {
     "data": {
      "text/plain": [
       "0       H000666\n",
       "1       G000578\n",
       "2       L000605\n",
       "3       W000829\n",
       "4       N000188\n",
       "         ...   \n",
       "2521    F000229\n",
       "2522    F000218\n",
       "2523    F000215\n",
       "2524    F000209\n",
       "2525    F000208\n",
       "Name: bioguideId, Length: 2526, dtype: object"
      ]
     },
     "execution_count": 10,
     "metadata": {},
     "output_type": "execute_result"
    }
   ],
   "source": [
    "bioguideIDs = ct.get_bioguideIDs()\n",
    "members = bioguideIDs['bioguideId']\n",
    "members"
   ]
  }
 ],
 "metadata": {
  "kernelspec": {
   "display_name": "env",
   "language": "python",
   "name": "python3"
  },
  "language_info": {
   "codemirror_mode": {
    "name": "ipython",
    "version": 3
   },
   "file_extension": ".py",
   "mimetype": "text/x-python",
   "name": "python",
   "nbconvert_exporter": "python",
   "pygments_lexer": "ipython3",
   "version": "3.10.12"
  }
 },
 "nbformat": 4,
 "nbformat_minor": 2
}
