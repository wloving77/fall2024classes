{
 "cells": [
  {
   "cell_type": "code",
   "execution_count": 4,
   "id": "d325c914-2db4-4bed-99c1-eeb5e61357a3",
   "metadata": {},
   "outputs": [
    {
     "data": {
      "text/plain": [
       "True"
      ]
     },
     "execution_count": 4,
     "metadata": {},
     "output_type": "execute_result"
    }
   ],
   "source": [
    "import importlib\n",
    "import contrans\n",
    "import requests\n",
    "from bs4 import BeautifulSoup\n",
    "import importlib\n",
    "import os\n",
    "import pymongo\n",
    "from dotenv import load_dotenv\n",
    "load_dotenv(\"./.env\")"
   ]
  },
  {
   "cell_type": "code",
   "execution_count": 5,
   "id": "71a992e2-0b4d-41e4-816b-8bbab1f4b76b",
   "metadata": {},
   "outputs": [
    {
     "data": {
      "text/plain": [
       "<module 'contrans' from '/home/wloving77/Githubs/school/fall2024classes/ds6600_data_eng_and_viz/contrans.py'>"
      ]
     },
     "execution_count": 5,
     "metadata": {},
     "output_type": "execute_result"
    }
   ],
   "source": [
    "importlib.reload(contrans)"
   ]
  },
  {
   "cell_type": "code",
   "execution_count": 6,
   "id": "e36f4a29-2e76-4339-998a-742c80e64d9c",
   "metadata": {},
   "outputs": [],
   "source": [
    "ct = contrans.contrans_helper()"
   ]
  },
  {
   "cell_type": "code",
   "execution_count": null,
   "id": "712a31be",
   "metadata": {},
   "outputs": [],
   "source": []
  }
 ],
 "metadata": {
  "kernelspec": {
   "display_name": "env",
   "language": "python",
   "name": "python3"
  },
  "language_info": {
   "codemirror_mode": {
    "name": "ipython",
    "version": 3
   },
   "file_extension": ".py",
   "mimetype": "text/x-python",
   "name": "python",
   "nbconvert_exporter": "python",
   "pygments_lexer": "ipython3",
   "version": "3.10.12"
  }
 },
 "nbformat": 4,
 "nbformat_minor": 5
}
