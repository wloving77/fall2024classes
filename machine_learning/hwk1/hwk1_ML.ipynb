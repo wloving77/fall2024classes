{
 "cells": [
  {
   "cell_type": "code",
   "execution_count": 1,
   "id": "1da6af6f-7295-408a-99de-37d20e8ff315",
   "metadata": {},
   "outputs": [],
   "source": [
    "import scipy.stats as stats"
   ]
  },
  {
   "cell_type": "markdown",
   "id": "c6cc9e05-a3ae-4b18-a71f-19eb35a3acba",
   "metadata": {},
   "source": [
    "# Question 2C"
   ]
  },
  {
   "cell_type": "code",
   "execution_count": 138,
   "id": "49d6fd88-daad-4e4e-8e23-0513698e8c82",
   "metadata": {},
   "outputs": [],
   "source": [
    "mu1, sigma1 = 0,1\n",
    "mu2, sigma2 = (2/3 * 3.14159), np.sqrt(0.5)"
   ]
  },
  {
   "cell_type": "code",
   "execution_count": 139,
   "id": "0f1d92f4-dd01-493a-98c7-2d6de29db927",
   "metadata": {},
   "outputs": [],
   "source": [
    "H = [i / 400 for i in range (1201)]"
   ]
  },
  {
   "cell_type": "code",
   "execution_count": 140,
   "id": "8e036726-7e49-40df-b02e-b10b7bd75c29",
   "metadata": {},
   "outputs": [
    {
     "name": "stdout",
     "output_type": "stream",
     "text": [
      " h* = 1.1125 and the corresponding index is 445\n"
     ]
    }
   ],
   "source": [
    "def true_error(h):\n",
    "    error_class_neg1 = 1 - stats.norm.cdf(h, loc=mu1, scale=sigma1)\n",
    "    error_class_pos1 = stats.norm.cdf(h, loc=mu2, scale=sigma2)\n",
    "    return 0.5 * (error_class_pos1 + error_class_neg1)\n",
    "\n",
    "\n",
    "errors = [true_error(h) for h in H]\n",
    "best_index = errors.index(min(errors))\n",
    "h_star = H[best_index]\n",
    "print(f\" h* = {h_star} and the corresponding index is {best_index}\")"
   ]
  },
  {
   "cell_type": "markdown",
   "id": "f2328eaf-5e94-4c31-a0f6-7bce7160f697",
   "metadata": {},
   "source": [
    "# Question 2E"
   ]
  },
  {
   "cell_type": "code",
   "execution_count": 7,
   "id": "1677c760-ea1d-4667-abe0-ec16e8a20b8c",
   "metadata": {},
   "outputs": [],
   "source": [
    "import numpy as np\n",
    "import matplotlib.pyplot as plt"
   ]
  },
  {
   "cell_type": "code",
   "execution_count": 142,
   "id": "9d2f932a-4120-42f6-84da-e17964fccb1e",
   "metadata": {},
   "outputs": [],
   "source": [
    "mu1, std1, size1 = 0, 1, 100\n",
    "mu2, std2, size2 = 2/3 * 3.14159, np.sqrt(0.5), 100"
   ]
  },
  {
   "cell_type": "code",
   "execution_count": 143,
   "id": "4f2cd106-422c-49c5-a931-67c0680b95ce",
   "metadata": {},
   "outputs": [],
   "source": [
    "samples_neg1 = np.random.normal(mu1, std1, size1)\n",
    "samples_pos1 = np.random.normal(mu2, std2, size2)"
   ]
  },
  {
   "cell_type": "code",
   "execution_count": 144,
   "id": "b917db50-bbf5-47ad-9c2b-e3a6760d0927",
   "metadata": {},
   "outputs": [],
   "source": [
    "labels_neg1 = np.full(size1, -1)\n",
    "labels_pos1 = np.full(size2, 1)"
   ]
  },
  {
   "cell_type": "code",
   "execution_count": 145,
   "id": "09a23f6e-acad-42c1-9c67-9643963a09a6",
   "metadata": {},
   "outputs": [],
   "source": [
    "samples = np.concatenate((samples_neg1, samples_pos1))\n",
    "labels = np.concatenate((labels_neg1, labels_pos1))"
   ]
  },
  {
   "cell_type": "code",
   "execution_count": 146,
   "id": "41be8ae2-25c1-44cf-bf5f-dea3573ad235",
   "metadata": {},
   "outputs": [],
   "source": [
    "H = [i/400 for i in range(1201)]\n",
    "best_h = None\n",
    "min_error = float('inf')"
   ]
  },
  {
   "cell_type": "code",
   "execution_count": 147,
   "id": "246d5401-11d5-46ba-b66d-519ea0370ef9",
   "metadata": {},
   "outputs": [],
   "source": [
    "for b in H:\n",
    "\n",
    "    predictions = np.where(samples > b, 1, -1)\n",
    "\n",
    "    empirical_error = np.mean(predictions!=labels)\n",
    "\n",
    "    if empirical_error < min_error:\n",
    "        min_error = empirical_error\n",
    "        best_h = b"
   ]
  },
  {
   "cell_type": "code",
   "execution_count": 148,
   "id": "87ae78c0-cf23-451b-a3fc-096880072023",
   "metadata": {},
   "outputs": [
    {
     "data": {
      "text/plain": [
       "0.93"
      ]
     },
     "execution_count": 148,
     "metadata": {},
     "output_type": "execute_result"
    }
   ],
   "source": [
    "best_h"
   ]
  },
  {
   "cell_type": "markdown",
   "id": "2cdf1a75-fb17-4253-8d8c-4b935c2ceaf8",
   "metadata": {},
   "source": [
    "# Question 3"
   ]
  },
  {
   "cell_type": "code",
   "execution_count": 1,
   "id": "0d0f166b-f302-4817-a688-3105ec5b5e14",
   "metadata": {},
   "outputs": [],
   "source": [
    "import pandas as pd"
   ]
  },
  {
   "cell_type": "code",
   "execution_count": 2,
   "id": "b6205122-e4ce-4b0c-8ef6-ab6aed24a9df",
   "metadata": {},
   "outputs": [],
   "source": [
    "df = pd.read_csv('data.tsv', delimiter='\\t', header=None)"
   ]
  },
  {
   "cell_type": "code",
   "execution_count": 3,
   "id": "2ea23d47-e250-4e14-9215-7a7a9b4bdd4a",
   "metadata": {},
   "outputs": [
    {
     "data": {
      "text/html": [
       "<div>\n",
       "<style scoped>\n",
       "    .dataframe tbody tr th:only-of-type {\n",
       "        vertical-align: middle;\n",
       "    }\n",
       "\n",
       "    .dataframe tbody tr th {\n",
       "        vertical-align: top;\n",
       "    }\n",
       "\n",
       "    .dataframe thead th {\n",
       "        text-align: right;\n",
       "    }\n",
       "</style>\n",
       "<table border=\"1\" class=\"dataframe\">\n",
       "  <thead>\n",
       "    <tr style=\"text-align: right;\">\n",
       "      <th></th>\n",
       "      <th>0</th>\n",
       "      <th>1</th>\n",
       "      <th>2</th>\n",
       "    </tr>\n",
       "  </thead>\n",
       "  <tbody>\n",
       "    <tr>\n",
       "      <th>0</th>\n",
       "      <td>0.00</td>\n",
       "      <td>0.63</td>\n",
       "      <td>1</td>\n",
       "    </tr>\n",
       "    <tr>\n",
       "      <th>1</th>\n",
       "      <td>0.08</td>\n",
       "      <td>0.50</td>\n",
       "      <td>1</td>\n",
       "    </tr>\n",
       "    <tr>\n",
       "      <th>2</th>\n",
       "      <td>0.25</td>\n",
       "      <td>0.36</td>\n",
       "      <td>1</td>\n",
       "    </tr>\n",
       "    <tr>\n",
       "      <th>3</th>\n",
       "      <td>0.28</td>\n",
       "      <td>0.12</td>\n",
       "      <td>1</td>\n",
       "    </tr>\n",
       "    <tr>\n",
       "      <th>4</th>\n",
       "      <td>0.11</td>\n",
       "      <td>0.22</td>\n",
       "      <td>1</td>\n",
       "    </tr>\n",
       "  </tbody>\n",
       "</table>\n",
       "</div>"
      ],
      "text/plain": [
       "      0     1  2\n",
       "0  0.00  0.63  1\n",
       "1  0.08  0.50  1\n",
       "2  0.25  0.36  1\n",
       "3  0.28  0.12  1\n",
       "4  0.11  0.22  1"
      ]
     },
     "execution_count": 3,
     "metadata": {},
     "output_type": "execute_result"
    }
   ],
   "source": [
    "df.head()"
   ]
  },
  {
   "cell_type": "code",
   "execution_count": 18,
   "id": "8518d106-2209-42ce-978b-29513de7421b",
   "metadata": {},
   "outputs": [],
   "source": [
    "def perceptron(data, labels):\n",
    "    m, n = data.shape\n",
    "    weights = np.zeros(n)\n",
    "    bias = 0\n",
    "    is_classified = False\n",
    "    \n",
    "    while not is_classified:\n",
    "        is_classified=True\n",
    "        for i in range(m):\n",
    "            if labels[i] * (np.dot(weights, data[i]) + bias) <= 0:\n",
    "                weights += labels[i] * data[i]\n",
    "                bias += labels[i]\n",
    "                is_classified=False\n",
    "    return weights, bias"
   ]
  },
  {
   "cell_type": "code",
   "execution_count": 19,
   "id": "809e6ead-d51c-4f10-8493-4c03ca42d17e",
   "metadata": {},
   "outputs": [
    {
     "name": "stdout",
     "output_type": "stream",
     "text": [
      "Data shape: (18, 2)\n",
      "Labels shape: (18,)\n",
      "Data preview: [[0.   0.63]\n",
      " [0.08 0.5 ]\n",
      " [0.25 0.36]\n",
      " [0.28 0.12]\n",
      " [0.11 0.22]]\n",
      "Labels preview: [1 1 1 1 1]\n"
     ]
    }
   ],
   "source": [
    "data = df[[0, 1]].values\n",
    "labels = df[2].values\n",
    "\n",
    "print(\"Data shape:\", data.shape)\n",
    "print(\"Labels shape:\", labels.shape)\n",
    "print(\"Data preview:\", data[:5])\n",
    "print(\"Labels preview:\", labels[:5])"
   ]
  },
  {
   "cell_type": "code",
   "execution_count": 22,
   "id": "6a29c72f-31b7-47f1-8e95-be8e089a02aa",
   "metadata": {},
   "outputs": [],
   "source": [
    "weights, bias = perceptron(data, labels) "
   ]
  },
  {
   "cell_type": "code",
   "execution_count": 23,
   "id": "8cf63f61-e500-47d0-ab28-7bd1957c5a89",
   "metadata": {},
   "outputs": [
    {
     "data": {
      "text/plain": [
       "array([-3.52, -1.24])"
      ]
     },
     "execution_count": 23,
     "metadata": {},
     "output_type": "execute_result"
    }
   ],
   "source": [
    "weights"
   ]
  },
  {
   "cell_type": "code",
   "execution_count": 24,
   "id": "da46fccc-07dc-4c69-be39-185a098c327f",
   "metadata": {},
   "outputs": [
    {
     "data": {
      "text/plain": [
       "np.int64(2)"
      ]
     },
     "execution_count": 24,
     "metadata": {},
     "output_type": "execute_result"
    }
   ],
   "source": [
    "bias"
   ]
  },
  {
   "cell_type": "code",
   "execution_count": 25,
   "id": "1fd37c29-7cd1-4679-87b8-7280208a1ccc",
   "metadata": {},
   "outputs": [],
   "source": [
    "def plot_decision_boundary(weights, bias, data, labels):\n",
    "    # Create a grid of points\n",
    "    x_min, x_max = data[:, 0].min() - 1, data[:, 0].max() + 1\n",
    "    y_min, y_max = data[:, 1].min() - 1, data[:, 1].max() + 1\n",
    "    xx, yy = np.meshgrid(np.linspace(x_min, x_max, 100),\n",
    "                         np.linspace(y_min, y_max, 100))\n",
    "\n",
    "    # Predict class labels for each point in the grid\n",
    "    Z = np.dot(np.c_[xx.ravel(), yy.ravel()], weights) + bias\n",
    "    Z = (Z > 0).astype(int)  # Convert to binary labels (0 or 1)\n",
    "    Z = Z.reshape(xx.shape)\n",
    "\n",
    "    # Plotting\n",
    "    plt.contourf(xx, yy, Z, alpha=0.3, cmap='coolwarm')\n",
    "    plt.scatter(data[:, 0], data[:, 1], c=labels, edgecolors='k', cmap='coolwarm')\n",
    "    plt.title(\"Decision Boundary\")\n",
    "    plt.xlabel(\"Feature 1\")\n",
    "    plt.ylabel(\"Feature 2\")\n",
    "    plt.xlim(x_min, x_max)\n",
    "    plt.ylim(y_min, y_max)\n",
    "    plt.show()"
   ]
  },
  {
   "cell_type": "code",
   "execution_count": 26,
   "id": "4fdac0f0-600f-45b3-bc93-193c18dcde20",
   "metadata": {},
   "outputs": [
    {
     "data": {
      "image/png": "[encoded data removed]",
      "text/plain": [
       "<Figure size 640x480 with 1 Axes>"
      ]
     },
     "metadata": {},
     "output_type": "display_data"
    }
   ],
   "source": [
    "plot_decision_boundary(weights, bias, data, labels)"
   ]
  },
  {
   "cell_type": "code",
   "execution_count": null,
   "id": "4685583b-d722-479a-8131-606f9095abb8",
   "metadata": {},
   "outputs": [],
   "source": []
  }
 ],
 "metadata": {
  "kernelspec": {
   "display_name": "Python 3 (ipykernel)",
   "language": "python",
   "name": "python3"
  },
  "language_info": {
   "codemirror_mode": {
    "name": "ipython",
    "version": 3
   },
   "file_extension": ".py",
   "mimetype": "text/x-python",
   "name": "python",
   "nbconvert_exporter": "python",
   "pygments_lexer": "ipython3",
   "version": "3.10.12"
  }
 },
 "nbformat": 4,
 "nbformat_minor": 5
}
