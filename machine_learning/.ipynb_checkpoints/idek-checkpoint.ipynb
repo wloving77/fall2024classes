{
 "cells": [
  {
   "cell_type": "code",
   "execution_count": null,
   "id": "0ced07d7-e512-48ac-859c-184d2be4ed06",
   "metadata": {},
   "outputs": [],
   "source": [
    "import numpy as np\n",
    "\n",
    "# Define the input signal x[n] and impulse response h[n]\n",
    "x = [0, -1, -1.5, 2, 1.5, 1.5, 0.8, 0, -0.5]\n",
    "h = [1, -0.8, -0.5, -0.2]\n",
    "\n",
    "# Perform convolution\n",
    "y = np.convolve(x, h)\n",
    "\n",
    "# Print the result\n",
    "print(\"Output y[n]:\", y)\n"
   ]
  }
 ],
 "metadata": {
  "kernelspec": {
   "display_name": "Python 3 (ipykernel)",
   "language": "python",
   "name": "python3"
  },
  "language_info": {
   "codemirror_mode": {
    "name": "ipython",
    "version": 3
   },
   "file_extension": ".py",
   "mimetype": "text/x-python",
   "name": "python",
   "nbconvert_exporter": "python",
   "pygments_lexer": "ipython3",
   "version": "3.10.12"
  }
 },
 "nbformat": 4,
 "nbformat_minor": 5
}
